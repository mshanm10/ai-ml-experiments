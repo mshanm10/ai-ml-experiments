{
 "cells": [
  {
   "cell_type": "code",
   "execution_count": 218,
   "metadata": {},
   "outputs": [],
   "source": [
    "import numpy as np"
   ]
  },
  {
   "cell_type": "markdown",
   "metadata": {},
   "source": [
    "# Creating Arrays"
   ]
  },
  {
   "cell_type": "code",
   "execution_count": 219,
   "metadata": {},
   "outputs": [
    {
     "data": {
      "text/plain": [
       "((3,), array([1, 2, 3]))"
      ]
     },
     "execution_count": 219,
     "metadata": {},
     "output_type": "execute_result"
    }
   ],
   "source": [
    "a = np.array([1,2,3])\n",
    "a.shape, a"
   ]
  },
  {
   "cell_type": "code",
   "execution_count": 220,
   "metadata": {},
   "outputs": [
    {
     "data": {
      "text/plain": [
       "((2, 3), array([[1.5, 2. , 3. ],\n",
       "        [4. , 5. , 6. ]]))"
      ]
     },
     "execution_count": 220,
     "metadata": {},
     "output_type": "execute_result"
    }
   ],
   "source": [
    "b= np.array([(1.5,2,3),(4,5,6)], dtype=float)\n",
    "b.shape, b"
   ]
  },
  {
   "cell_type": "code",
   "execution_count": 221,
   "metadata": {},
   "outputs": [
    {
     "data": {
      "text/plain": [
       "((2, 2, 3), array([[[ 1.5,  2. ,  3. ],\n",
       "         [ 4. ,  5. ,  6. ]],\n",
       " \n",
       "        [[ 7.5,  8. ,  9. ],\n",
       "         [10. , 11. , 12. ]]]))"
      ]
     },
     "execution_count": 221,
     "metadata": {},
     "output_type": "execute_result"
    }
   ],
   "source": [
    "c = np.array([[(1.5,2,3),(4,5,6)], [(7.5,8,9),(10,11,12)]], dtype=float)\n",
    "c.shape, c"
   ]
  },
  {
   "cell_type": "markdown",
   "metadata": {},
   "source": [
    "# Initial Placeholders"
   ]
  },
  {
   "cell_type": "code",
   "execution_count": 222,
   "metadata": {},
   "outputs": [
    {
     "data": {
      "text/plain": [
       "array([[0., 0., 0., 0.],\n",
       "       [0., 0., 0., 0.],\n",
       "       [0., 0., 0., 0.]])"
      ]
     },
     "execution_count": 222,
     "metadata": {},
     "output_type": "execute_result"
    }
   ],
   "source": [
    "np.zeros((3,4))"
   ]
  },
  {
   "cell_type": "code",
   "execution_count": 223,
   "metadata": {},
   "outputs": [
    {
     "data": {
      "text/plain": [
       "array([[[1, 1, 1, 1],\n",
       "        [1, 1, 1, 1],\n",
       "        [1, 1, 1, 1]],\n",
       "\n",
       "       [[1, 1, 1, 1],\n",
       "        [1, 1, 1, 1],\n",
       "        [1, 1, 1, 1]]], dtype=int16)"
      ]
     },
     "execution_count": 223,
     "metadata": {},
     "output_type": "execute_result"
    }
   ],
   "source": [
    "np.ones((2,3,4), dtype=np.int16)"
   ]
  },
  {
   "cell_type": "code",
   "execution_count": 224,
   "metadata": {},
   "outputs": [
    {
     "data": {
      "text/plain": [
       "array([10, 15, 20])"
      ]
     },
     "execution_count": 224,
     "metadata": {},
     "output_type": "execute_result"
    }
   ],
   "source": [
    "np.arange(10,25,5) # evenly spaced values (step value)"
   ]
  },
  {
   "cell_type": "code",
   "execution_count": 225,
   "metadata": {},
   "outputs": [
    {
     "data": {
      "text/plain": [
       "array([0.  , 0.25, 0.5 , 0.75, 1.  , 1.25, 1.5 , 1.75, 2.  ])"
      ]
     },
     "execution_count": 225,
     "metadata": {},
     "output_type": "execute_result"
    }
   ],
   "source": [
    "np.linspace(0,2,9) # evenly spaced values (no of samples)"
   ]
  },
  {
   "cell_type": "code",
   "execution_count": 226,
   "metadata": {},
   "outputs": [
    {
     "data": {
      "text/plain": [
       "array([[7, 7],\n",
       "       [7, 7]])"
      ]
     },
     "execution_count": 226,
     "metadata": {},
     "output_type": "execute_result"
    }
   ],
   "source": [
    "np.full((2,2), 7) # constant array"
   ]
  },
  {
   "cell_type": "code",
   "execution_count": 227,
   "metadata": {},
   "outputs": [
    {
     "data": {
      "text/plain": [
       "array([[1., 0.],\n",
       "       [0., 1.]])"
      ]
     },
     "execution_count": 227,
     "metadata": {},
     "output_type": "execute_result"
    }
   ],
   "source": [
    "np.eye(2) # identity matrix"
   ]
  },
  {
   "cell_type": "code",
   "execution_count": 228,
   "metadata": {},
   "outputs": [
    {
     "data": {
      "text/plain": [
       "array([[0.35366991, 0.61246624],\n",
       "       [0.23830486, 0.48063953]])"
      ]
     },
     "execution_count": 228,
     "metadata": {},
     "output_type": "execute_result"
    }
   ],
   "source": [
    "np.random.random((2,2))"
   ]
  },
  {
   "cell_type": "markdown",
   "metadata": {},
   "source": [
    "Empty, unlike zeros, does not set the array values to zero, and may therefore be marginally faster. On the other hand, it requires the user to manually set all the values in the array, and should be used with caution."
   ]
  },
  {
   "cell_type": "code",
   "execution_count": 229,
   "metadata": {},
   "outputs": [
    {
     "data": {
      "text/plain": [
       "array([[1.5, 2. ],\n",
       "       [3. , 4. ],\n",
       "       [5. , 6. ]])"
      ]
     },
     "execution_count": 229,
     "metadata": {},
     "output_type": "execute_result"
    }
   ],
   "source": [
    "np.empty((3,2))"
   ]
  },
  {
   "cell_type": "markdown",
   "metadata": {},
   "source": [
    "# I/O\n",
    "#### Saving & Loading on Disk"
   ]
  },
  {
   "cell_type": "code",
   "execution_count": 230,
   "metadata": {},
   "outputs": [
    {
     "data": {
      "text/plain": [
       "array([1, 2, 3])"
      ]
     },
     "execution_count": 230,
     "metadata": {},
     "output_type": "execute_result"
    }
   ],
   "source": [
    "s_a = np.array([1,2,3])\n",
    "s_b = np.array([4,5,6])\n",
    "!mkdir -p tmp\n",
    "np.save('tmp/s_a_array', s_a)\n",
    "np.load('tmp/s_a_array.npy')"
   ]
  },
  {
   "cell_type": "code",
   "execution_count": 231,
   "metadata": {},
   "outputs": [
    {
     "data": {
      "text/plain": [
       "(['arr_0', 'arr_1'],\n",
       " array([1, 2, 3]),\n",
       " array([4, 5, 6]),\n",
       " array([1, 2, 3]),\n",
       " array([4, 5, 6]))"
      ]
     },
     "execution_count": 231,
     "metadata": {},
     "output_type": "execute_result"
    }
   ],
   "source": [
    "np.savez('tmp/s_a__s_b_array.npz', s_a, s_b)\n",
    "npz = np.load('tmp/s_a__s_b_array.npz')\n",
    "npz.files, npz['arr_0'],npz['arr_1'], npz.f.arr_0, npz.f.arr_1"
   ]
  },
  {
   "cell_type": "markdown",
   "metadata": {},
   "source": [
    "#### Saving & Loading Text Files"
   ]
  },
  {
   "cell_type": "code",
   "execution_count": 232,
   "metadata": {},
   "outputs": [
    {
     "data": {
      "text/plain": [
       "array([[0.58572764, 0.95163349],\n",
       "       [0.78673811, 0.64822074]])"
      ]
     },
     "execution_count": 232,
     "metadata": {},
     "output_type": "execute_result"
    }
   ],
   "source": [
    "t_a = np.random.random((2,2))\n",
    "np.savetxt(\"tmp/myfile.txt\", t_a, delimiter=\" \")\n",
    "np.genfromtxt(\"tmp/myfile.txt\", delimiter=\" \")\n",
    "np.loadtxt(\"tmp/myfile.txt\") # delimiter should be space"
   ]
  },
  {
   "cell_type": "code",
   "execution_count": 233,
   "metadata": {},
   "outputs": [
    {
     "data": {
      "text/plain": [
       "((3, 2), 3, 2, 6, dtype('float64'), 'float64', array([[0, 0],\n",
       "        [0, 0],\n",
       "        [0, 0]]))"
      ]
     },
     "execution_count": 233,
     "metadata": {},
     "output_type": "execute_result"
    }
   ],
   "source": [
    "i_a = np.random.random((3,2))\n",
    "i_a.shape, \\\n",
    "len(i_a), \\\n",
    "i_a.ndim, \\\n",
    "i_a.size, \\\n",
    "i_a.dtype, \\\n",
    "i_a.dtype.name, \\\n",
    "i_a.astype(int)\n"
   ]
  },
  {
   "cell_type": "code",
   "execution_count": 234,
   "metadata": {
    "scrolled": true
   },
   "outputs": [
    {
     "name": "stdout",
     "output_type": "stream",
     "text": [
      " ndarray()\n",
      "\n",
      "ndarray(shape, dtype=float, buffer=None, offset=0,\n",
      "        strides=None, order=None)\n",
      "\n",
      "An array object represents a multidimensional, homogeneous array\n",
      "of fixed-size items.  An associated data-type object describes the\n",
      "format of each element in the array (its byte-order, how many bytes it\n",
      "occupies in memory, whether it is an integer, a floating point number,\n",
      "or something else, etc.)\n",
      "\n",
      "Arrays should be constructed using `array`, `zeros` or `empty` (refer\n",
      "to the See Also section below).  The parameters given here refer to\n",
      "a low-level method (`ndarray(...)`) for instantiating an array.\n",
      "\n",
      "For more information, refer to the `numpy` module and examine the\n",
      "methods and attributes of an array.\n",
      "\n",
      "Parameters\n",
      "----------\n",
      "(for the __new__ method; see Notes below)\n",
      "\n",
      "shape : tuple of ints\n",
      "    Shape of created array.\n",
      "dtype : data-type, optional\n",
      "    Any object that can be interpreted as a numpy data type.\n",
      "buffer : object exposing buffer interface, optional\n",
      "    Used to fill the array with data.\n",
      "offset : int, optional\n",
      "    Offset of array data in buffer.\n",
      "strides : tuple of ints, optional\n",
      "    Strides of data in memory.\n",
      "order : {'C', 'F'}, optional\n",
      "    Row-major (C-style) or column-major (Fortran-style) order.\n",
      "\n",
      "Attributes\n",
      "----------\n",
      "T : ndarray\n",
      "    Transpose of the array.\n",
      "data : buffer\n",
      "    The array's elements, in memory.\n",
      "dtype : dtype object\n",
      "    Describes the format of the elements in the array.\n",
      "flags : dict\n",
      "    Dictionary containing information related to memory use, e.g.,\n",
      "    'C_CONTIGUOUS', 'OWNDATA', 'WRITEABLE', etc.\n",
      "flat : numpy.flatiter object\n",
      "    Flattened version of the array as an iterator.  The iterator\n",
      "    allows assignments, e.g., ``x.flat = 3`` (See `ndarray.flat` for\n",
      "    assignment examples; TODO).\n",
      "imag : ndarray\n",
      "    Imaginary part of the array.\n",
      "real : ndarray\n",
      "    Real part of the array.\n",
      "size : int\n",
      "    Number of elements in the array.\n",
      "itemsize : int\n",
      "    The memory use of each array element in bytes.\n",
      "nbytes : int\n",
      "    The total number of bytes required to store the array data,\n",
      "    i.e., ``itemsize * size``.\n",
      "ndim : int\n",
      "    The array's number of dimensions.\n",
      "shape : tuple of ints\n",
      "    Shape of the array.\n",
      "strides : tuple of ints\n",
      "    The step-size required to move from one element to the next in\n",
      "    memory. For example, a contiguous ``(3, 4)`` array of type\n",
      "    ``int16`` in C-order has strides ``(8, 2)``.  This implies that\n",
      "    to move from element to element in memory requires jumps of 2 bytes.\n",
      "    To move from row-to-row, one needs to jump 8 bytes at a time\n",
      "    (``2 * 4``).\n",
      "ctypes : ctypes object\n",
      "    Class containing properties of the array needed for interaction\n",
      "    with ctypes.\n",
      "base : ndarray\n",
      "    If the array is a view into another array, that array is its `base`\n",
      "    (unless that array is also a view).  The `base` array is where the\n",
      "    array data is actually stored.\n",
      "\n",
      "See Also\n",
      "--------\n",
      "array : Construct an array.\n",
      "zeros : Create an array, each element of which is zero.\n",
      "empty : Create an array, but leave its allocated memory unchanged (i.e.,\n",
      "        it contains \"garbage\").\n",
      "dtype : Create a data-type.\n",
      "\n",
      "Notes\n",
      "-----\n",
      "There are two modes of creating an array using ``__new__``:\n",
      "\n",
      "1. If `buffer` is None, then only `shape`, `dtype`, and `order`\n",
      "   are used.\n",
      "2. If `buffer` is an object exposing the buffer interface, then\n",
      "   all keywords are interpreted.\n",
      "\n",
      "No ``__init__`` method is needed because the array is fully initialized\n",
      "after the ``__new__`` method.\n",
      "\n",
      "Examples\n",
      "--------\n",
      "These examples illustrate the low-level `ndarray` constructor.  Refer\n",
      "to the `See Also` section above for easier ways of constructing an\n",
      "ndarray.\n",
      "\n",
      "First mode, `buffer` is None:\n",
      "\n",
      ">>> np.ndarray(shape=(2,2), dtype=float, order='F')\n",
      "array([[ -1.13698227e+002,   4.25087011e-303],\n",
      "       [  2.88528414e-306,   3.27025015e-309]])         #random\n",
      "\n",
      "Second mode:\n",
      "\n",
      ">>> np.ndarray((2,), buffer=np.array([1,2,3]),\n",
      "...            offset=np.int_().itemsize,\n",
      "...            dtype=int) # offset = 1*itemsize, i.e. skip first element\n",
      "array([2, 3])\n",
      "\n",
      "\n",
      "Methods:\n",
      "\n",
      "  all  --  a.all(axis=None, out=None, keepdims=False)\n",
      "  any  --  a.any(axis=None, out=None, keepdims=False)\n",
      "  argmax  --  a.argmax(axis=None, out=None)\n",
      "  argmin  --  a.argmin(axis=None, out=None)\n",
      "  argpartition  --  a.argpartition(kth, axis=-1, kind='introselect', order=None)\n",
      "  argsort  --  a.argsort(axis=-1, kind='quicksort', order=None)\n",
      "  astype  --  a.astype(dtype, order='K', casting='unsafe', subok=True, copy=True)\n",
      "  byteswap  --  a.byteswap(inplace=False)\n",
      "  choose  --  a.choose(choices, out=None, mode='raise')\n",
      "  clip  --  a.clip(min=None, max=None, out=None)\n",
      "  compress  --  a.compress(condition, axis=None, out=None)\n",
      "  conj  --  a.conj()\n",
      "  conjugate  --  a.conjugate()\n",
      "  copy  --  a.copy(order='C')\n",
      "  cumprod  --  a.cumprod(axis=None, dtype=None, out=None)\n",
      "  cumsum  --  a.cumsum(axis=None, dtype=None, out=None)\n",
      "  diagonal  --  a.diagonal(offset=0, axis1=0, axis2=1)\n",
      "  dot  --  a.dot(b, out=None)\n",
      "  dump  --  a.dump(file)\n",
      "  dumps  --  a.dumps()\n",
      "  fill  --  a.fill(value)\n",
      "  flatten  --  a.flatten(order='C')\n",
      "  getfield  --  a.getfield(dtype, offset=0)\n",
      "  item  --  a.item(*args)\n",
      "  itemset  --  a.itemset(*args)\n",
      "  max  --  a.max(axis=None, out=None, keepdims=False)\n",
      "  mean  --  a.mean(axis=None, dtype=None, out=None, keepdims=False)\n",
      "  min  --  a.min(axis=None, out=None, keepdims=False)\n",
      "  newbyteorder  --  arr.newbyteorder(new_order='S')\n",
      "  nonzero  --  a.nonzero()\n",
      "  partition  --  a.partition(kth, axis=-1, kind='introselect', order=None)\n",
      "  prod  --  a.prod(axis=None, dtype=None, out=None, keepdims=False)\n",
      "  ptp  --  a.ptp(axis=None, out=None, keepdims=False)\n",
      "  put  --  a.put(indices, values, mode='raise')\n",
      "  ravel  --  a.ravel([order])\n",
      "  repeat  --  a.repeat(repeats, axis=None)\n",
      "  reshape  --  a.reshape(shape, order='C')\n",
      "  resize  --  a.resize(new_shape, refcheck=True)\n",
      "  round  --  a.round(decimals=0, out=None)\n",
      "  searchsorted  --  a.searchsorted(v, side='left', sorter=None)\n",
      "  setfield  --  a.setfield(val, dtype, offset=0)\n",
      "  setflags  --  a.setflags(write=None, align=None, uic=None)\n",
      "  sort  --  a.sort(axis=-1, kind='quicksort', order=None)\n",
      "  squeeze  --  a.squeeze(axis=None)\n",
      "  std  --  a.std(axis=None, dtype=None, out=None, ddof=0, keepdims=False)\n",
      "  sum  --  a.sum(axis=None, dtype=None, out=None, keepdims=False)\n",
      "  swapaxes  --  a.swapaxes(axis1, axis2)\n",
      "  take  --  a.take(indices, axis=None, out=None, mode='raise')\n",
      "  tobytes  --  a.tobytes(order='C')\n",
      "  tofile  --  a.tofile(fid, sep=\"\", format=\"%s\")\n",
      "  tolist  --  a.tolist()\n",
      "  tostring  --  a.tostring(order='C')\n",
      "  trace  --  a.trace(offset=0, axis1=0, axis2=1, dtype=None, out=None)\n",
      "  transpose  --  a.transpose(*axes)\n",
      "  var  --  a.var(axis=None, dtype=None, out=None, ddof=0, keepdims=False)\n",
      "  view  --  a.view(dtype=None, type=None)\n"
     ]
    }
   ],
   "source": [
    "np.info(np.ndarray)"
   ]
  },
  {
   "cell_type": "markdown",
   "metadata": {},
   "source": [
    "### Arithmetic Operations"
   ]
  },
  {
   "cell_type": "code",
   "execution_count": 235,
   "metadata": {},
   "outputs": [
    {
     "data": {
      "text/plain": [
       "(array([5., 6., 7., 8., 9.]),\n",
       " array([4., 5., 6., 7., 8.]),\n",
       " array([ 6.,  7.,  8.,  9., 10.]),\n",
       " array([0.83333333, 0.85714286, 0.875     , 0.88888889, 0.9       ]),\n",
       " array([30., 42., 56., 72., 90.]),\n",
       " array([5., 6., 7., 8., 9.]),\n",
       " array([ 148.4131591 ,  403.42879349, 1096.63315843, 2980.95798704,\n",
       "        8103.08392758]),\n",
       " array([2.23606798, 2.44948974, 2.64575131, 2.82842712, 3.        ]),\n",
       " array([-0.95892427, -0.2794155 ,  0.6569866 ,  0.98935825,  0.41211849]),\n",
       " array([1.60943791, 1.79175947, 1.94591015, 2.07944154, 2.19722458]),\n",
       " 35.0)"
      ]
     },
     "execution_count": 235,
     "metadata": {},
     "output_type": "execute_result"
    }
   ],
   "source": [
    "a = np.linspace(5,9,5)\n",
    "b = np.ones(5)\n",
    "a, a-b, a+b, a/(a+b), a*(a+b), np.multiply(a, b), np.exp(a), \\\n",
    "np.sqrt(a), np.sin(a), np.log(a), a.dot(b)\n"
   ]
  },
  {
   "cell_type": "markdown",
   "metadata": {},
   "source": [
    "### Comparison"
   ]
  },
  {
   "cell_type": "code",
   "execution_count": 236,
   "metadata": {},
   "outputs": [
    {
     "name": "stdout",
     "output_type": "stream",
     "text": [
      "[False False False False False] [False False False False False] [ True  True  True  True  True]\n"
     ]
    },
    {
     "data": {
      "text/plain": [
       "False"
      ]
     },
     "execution_count": 236,
     "metadata": {},
     "output_type": "execute_result"
    }
   ],
   "source": [
    "# Element-wise\n",
    "print(a == b, a<b, a>b)\n",
    "# Array-wise\n",
    "np.array_equal(a,b) "
   ]
  },
  {
   "cell_type": "markdown",
   "metadata": {},
   "source": [
    "### Aggregate Functions"
   ]
  },
  {
   "cell_type": "code",
   "execution_count": 237,
   "metadata": {},
   "outputs": [
    {
     "data": {
      "text/plain": [
       "(35.0, 5.0, 9.0, 7.0)"
      ]
     },
     "execution_count": 237,
     "metadata": {},
     "output_type": "execute_result"
    }
   ],
   "source": [
    "a.sum(), a.min(), a.max(), a.mean()"
   ]
  },
  {
   "cell_type": "code",
   "execution_count": 238,
   "metadata": {},
   "outputs": [
    {
     "data": {
      "text/plain": [
       "(6, array([3, 6]), array([4, 6]), array([[2, 6],\n",
       "        [3, 9]]))"
      ]
     },
     "execution_count": 238,
     "metadata": {},
     "output_type": "execute_result"
    }
   ],
   "source": [
    "a_2d = np.array([(2,4),(3,6)])\n",
    "a_2d.max(), a_2d.max(axis=0), a_2d.max(axis=1), a_2d.cumsum(axis=1)"
   ]
  },
  {
   "cell_type": "markdown",
   "metadata": {},
   "source": [
    "### Copying & Sorting"
   ]
  },
  {
   "cell_type": "code",
   "execution_count": 239,
   "metadata": {},
   "outputs": [],
   "source": [
    "a.view()\n",
    "np.copy(a)\n",
    "a.copy() # deep copy\n",
    "a.sort(axis=0)"
   ]
  },
  {
   "cell_type": "markdown",
   "metadata": {},
   "source": [
    "### Subsetting, Slicing, Indexing"
   ]
  },
  {
   "cell_type": "code",
   "execution_count": 240,
   "metadata": {},
   "outputs": [
    {
     "data": {
      "text/plain": [
       "(3, 6, array([1, 2]), array([2, 5]), array([[1, 2, 3]]), array([4, 5, 6]))"
      ]
     },
     "execution_count": 240,
     "metadata": {},
     "output_type": "execute_result"
    }
   ],
   "source": [
    "ssi_a = np.array([1,2,3])\n",
    "ssi_b = np.array([(1,2,3),(4,5,6)])\n",
    "ssi_a[2], ssi_b[1,2], ssi_a[0:2], ssi_b[0:2, 1], ssi_b[:1], \\\n",
    "ssi_b[1, ...]"
   ]
  },
  {
   "cell_type": "code",
   "execution_count": 241,
   "metadata": {},
   "outputs": [
    {
     "data": {
      "text/plain": [
       "(array([[1, 2, 3],\n",
       "        [4, 5, 6]]), array([[4, 5, 6],\n",
       "        [1, 2, 3]]))"
      ]
     },
     "execution_count": 241,
     "metadata": {},
     "output_type": "execute_result"
    }
   ],
   "source": [
    "ssi_b, ssi_b[: :-1] # reversed array"
   ]
  },
  {
   "cell_type": "code",
   "execution_count": 242,
   "metadata": {},
   "outputs": [
    {
     "data": {
      "text/plain": [
       "array([3, 4, 5, 6])"
      ]
     },
     "execution_count": 242,
     "metadata": {},
     "output_type": "execute_result"
    }
   ],
   "source": [
    "ssi_b[ssi_b>2] # select elements less than 2"
   ]
  },
  {
   "cell_type": "markdown",
   "metadata": {},
   "source": [
    "### Fancy Indexing\n",
    "[Exploring Fancy Indexing](https://jakevdp.github.io/PythonDataScienceHandbook/02.07-fancy-indexing.html)"
   ]
  },
  {
   "cell_type": "code",
   "execution_count": 272,
   "metadata": {},
   "outputs": [
    {
     "name": "stdout",
     "output_type": "stream",
     "text": [
      "[[ 0  1  2  3]\n",
      " [ 4  5  6  7]\n",
      " [ 8  9 10 11]] \n",
      "\n",
      "[2 5 8] \n",
      "\n",
      "[[0]\n",
      " [1]\n",
      " [2]] \n",
      "\n"
     ]
    },
    {
     "data": {
      "text/plain": [
       "(array([[1],\n",
       "        [5],\n",
       "        [9]]), array([[ 2,  1,  0],\n",
       "        [ 6,  5,  4],\n",
       "        [10,  9,  8]]))"
      ]
     },
     "execution_count": 272,
     "metadata": {},
     "output_type": "execute_result"
    }
   ],
   "source": [
    "f_a = np.arange(12).reshape(3,4)\n",
    "print(f_a, '\\n')\n",
    "row = np.array([0,1,2])\n",
    "col = np.array([2,1,0])\n",
    "print(f_a[row,col], '\\n')\n",
    "# f_a[row[:, np.newaxis], col]\n",
    "row[:].shape, row[:, np.newaxis].shape\n",
    "print(row[:, np.newaxis], '\\n')\n",
    "f_a[row[:, np.newaxis], 1], f_a[row[:, np.newaxis], col] "
   ]
  },
  {
   "cell_type": "code",
   "execution_count": null,
   "metadata": {},
   "outputs": [],
   "source": []
  }
 ],
 "metadata": {
  "kernelspec": {
   "display_name": "Python 3",
   "language": "python",
   "name": "python3"
  },
  "language_info": {
   "codemirror_mode": {
    "name": "ipython",
    "version": 3
   },
   "file_extension": ".py",
   "mimetype": "text/x-python",
   "name": "python",
   "nbconvert_exporter": "python",
   "pygments_lexer": "ipython3",
   "version": "3.7.3"
  }
 },
 "nbformat": 4,
 "nbformat_minor": 2
}
