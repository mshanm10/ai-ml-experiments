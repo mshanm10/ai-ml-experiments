{
 "cells": [
  {
   "cell_type": "markdown",
   "metadata": {},
   "source": [
    "## Reference\n",
    "[Numpy Cheat Sheet](https://www.datacamp.com/community/blog/python-numpy-cheat-sheet)"
   ]
  },
  {
   "cell_type": "code",
   "execution_count": 1,
   "metadata": {},
   "outputs": [],
   "source": [
    "import numpy as np"
   ]
  },
  {
   "cell_type": "markdown",
   "metadata": {},
   "source": [
    "# Creating Arrays"
   ]
  },
  {
   "cell_type": "code",
   "execution_count": 2,
   "metadata": {},
   "outputs": [
    {
     "data": {
      "text/plain": [
       "((3,), array([1, 2, 3]))"
      ]
     },
     "execution_count": 2,
     "metadata": {},
     "output_type": "execute_result"
    }
   ],
   "source": [
    "a = np.array([1,2,3])\n",
    "a.shape, a"
   ]
  },
  {
   "cell_type": "code",
   "execution_count": 3,
   "metadata": {},
   "outputs": [
    {
     "data": {
      "text/plain": [
       "((2, 3), array([[1.5, 2. , 3. ],\n",
       "        [4. , 5. , 6. ]]))"
      ]
     },
     "execution_count": 3,
     "metadata": {},
     "output_type": "execute_result"
    }
   ],
   "source": [
    "b= np.array([(1.5,2,3),(4,5,6)], dtype=float)\n",
    "b.shape, b"
   ]
  },
  {
   "cell_type": "code",
   "execution_count": 4,
   "metadata": {},
   "outputs": [
    {
     "data": {
      "text/plain": [
       "((2, 2, 3), array([[[ 1.5,  2. ,  3. ],\n",
       "         [ 4. ,  5. ,  6. ]],\n",
       " \n",
       "        [[ 7.5,  8. ,  9. ],\n",
       "         [10. , 11. , 12. ]]]))"
      ]
     },
     "execution_count": 4,
     "metadata": {},
     "output_type": "execute_result"
    }
   ],
   "source": [
    "c = np.array([[(1.5,2,3),(4,5,6)], [(7.5,8,9),(10,11,12)]], dtype=float)\n",
    "c.shape, c"
   ]
  },
  {
   "cell_type": "markdown",
   "metadata": {},
   "source": [
    "# Initial Placeholders"
   ]
  },
  {
   "cell_type": "code",
   "execution_count": 5,
   "metadata": {},
   "outputs": [
    {
     "data": {
      "text/plain": [
       "array([[0., 0., 0., 0.],\n",
       "       [0., 0., 0., 0.],\n",
       "       [0., 0., 0., 0.]])"
      ]
     },
     "execution_count": 5,
     "metadata": {},
     "output_type": "execute_result"
    }
   ],
   "source": [
    "np.zeros((3,4))"
   ]
  },
  {
   "cell_type": "code",
   "execution_count": 6,
   "metadata": {},
   "outputs": [
    {
     "data": {
      "text/plain": [
       "array([[[1, 1, 1, 1],\n",
       "        [1, 1, 1, 1],\n",
       "        [1, 1, 1, 1]],\n",
       "\n",
       "       [[1, 1, 1, 1],\n",
       "        [1, 1, 1, 1],\n",
       "        [1, 1, 1, 1]]], dtype=int16)"
      ]
     },
     "execution_count": 6,
     "metadata": {},
     "output_type": "execute_result"
    }
   ],
   "source": [
    "np.ones((2,3,4), dtype=np.int16)"
   ]
  },
  {
   "cell_type": "code",
   "execution_count": 7,
   "metadata": {},
   "outputs": [
    {
     "data": {
      "text/plain": [
       "array([10, 15, 20])"
      ]
     },
     "execution_count": 7,
     "metadata": {},
     "output_type": "execute_result"
    }
   ],
   "source": [
    "np.arange(10,25,5) # evenly spaced values (step value)"
   ]
  },
  {
   "cell_type": "code",
   "execution_count": 8,
   "metadata": {},
   "outputs": [
    {
     "data": {
      "text/plain": [
       "array([0.  , 0.25, 0.5 , 0.75, 1.  , 1.25, 1.5 , 1.75, 2.  ])"
      ]
     },
     "execution_count": 8,
     "metadata": {},
     "output_type": "execute_result"
    }
   ],
   "source": [
    "np.linspace(0,2,9) # evenly spaced values (no of samples)"
   ]
  },
  {
   "cell_type": "code",
   "execution_count": 9,
   "metadata": {},
   "outputs": [
    {
     "data": {
      "text/plain": [
       "array([[7, 7],\n",
       "       [7, 7]])"
      ]
     },
     "execution_count": 9,
     "metadata": {},
     "output_type": "execute_result"
    }
   ],
   "source": [
    "np.full((2,2), 7) # constant array"
   ]
  },
  {
   "cell_type": "code",
   "execution_count": 10,
   "metadata": {},
   "outputs": [
    {
     "data": {
      "text/plain": [
       "array([[1., 0.],\n",
       "       [0., 1.]])"
      ]
     },
     "execution_count": 10,
     "metadata": {},
     "output_type": "execute_result"
    }
   ],
   "source": [
    "np.eye(2) # identity matrix"
   ]
  },
  {
   "cell_type": "code",
   "execution_count": 11,
   "metadata": {},
   "outputs": [
    {
     "data": {
      "text/plain": [
       "array([[0.4676722 , 0.5736547 ],\n",
       "       [0.77862917, 0.71776302]])"
      ]
     },
     "execution_count": 11,
     "metadata": {},
     "output_type": "execute_result"
    }
   ],
   "source": [
    "np.random.random((2,2))"
   ]
  },
  {
   "cell_type": "markdown",
   "metadata": {},
   "source": [
    "Empty, unlike zeros, does not set the array values to zero, and may therefore be marginally faster. On the other hand, it requires the user to manually set all the values in the array, and should be used with caution."
   ]
  },
  {
   "cell_type": "code",
   "execution_count": 12,
   "metadata": {},
   "outputs": [
    {
     "data": {
      "text/plain": [
       "array([[1.5, 2. ],\n",
       "       [3. , 4. ],\n",
       "       [5. , 6. ]])"
      ]
     },
     "execution_count": 12,
     "metadata": {},
     "output_type": "execute_result"
    }
   ],
   "source": [
    "np.empty((3,2))"
   ]
  },
  {
   "cell_type": "markdown",
   "metadata": {},
   "source": [
    "# I/O\n",
    "#### Saving & Loading on Disk"
   ]
  },
  {
   "cell_type": "code",
   "execution_count": 13,
   "metadata": {},
   "outputs": [
    {
     "data": {
      "text/plain": [
       "array([1, 2, 3])"
      ]
     },
     "execution_count": 13,
     "metadata": {},
     "output_type": "execute_result"
    }
   ],
   "source": [
    "s_a = np.array([1,2,3])\n",
    "s_b = np.array([4,5,6])\n",
    "!mkdir -p tmp\n",
    "np.save('tmp/s_a_array', s_a)\n",
    "np.load('tmp/s_a_array.npy')"
   ]
  },
  {
   "cell_type": "code",
   "execution_count": 14,
   "metadata": {},
   "outputs": [
    {
     "data": {
      "text/plain": [
       "(['arr_0', 'arr_1'],\n",
       " array([1, 2, 3]),\n",
       " array([4, 5, 6]),\n",
       " array([1, 2, 3]),\n",
       " array([4, 5, 6]))"
      ]
     },
     "execution_count": 14,
     "metadata": {},
     "output_type": "execute_result"
    }
   ],
   "source": [
    "np.savez('tmp/s_a__s_b_array.npz', s_a, s_b)\n",
    "npz = np.load('tmp/s_a__s_b_array.npz')\n",
    "npz.files, npz['arr_0'],npz['arr_1'], npz.f.arr_0, npz.f.arr_1"
   ]
  },
  {
   "cell_type": "markdown",
   "metadata": {},
   "source": [
    "#### Saving & Loading Text Files"
   ]
  },
  {
   "cell_type": "code",
   "execution_count": 15,
   "metadata": {},
   "outputs": [
    {
     "data": {
      "text/plain": [
       "array([[0.15749129, 0.0130983 ],\n",
       "       [0.74015809, 0.95561571]])"
      ]
     },
     "execution_count": 15,
     "metadata": {},
     "output_type": "execute_result"
    }
   ],
   "source": [
    "t_a = np.random.random((2,2))\n",
    "np.savetxt(\"tmp/myfile.txt\", t_a, delimiter=\" \")\n",
    "np.genfromtxt(\"tmp/myfile.txt\", delimiter=\" \")\n",
    "np.loadtxt(\"tmp/myfile.txt\") # delimiter should be space"
   ]
  },
  {
   "cell_type": "code",
   "execution_count": 195,
   "metadata": {},
   "outputs": [
    {
     "name": "stdout",
     "output_type": "stream",
     "text": [
      "(3, 2)\n",
      "3\n",
      "ndim:\n",
      "2\n",
      "no of elements:\n",
      "6\n",
      "float64\n",
      "float64\n",
      "[[0 0]\n",
      " [0 0]\n",
      " [0 0]]\n"
     ]
    }
   ],
   "source": [
    "i_a = np.random.random((3,2))\n",
    "print (i_a.shape, \n",
    "       len(i_a), \n",
    "       'ndim:',\n",
    "       i_a.ndim,\n",
    "       'no of elements:',\n",
    "       i_a.size, \n",
    "       i_a.dtype, \n",
    "       i_a.dtype.name, \n",
    "       i_a.astype(int),\n",
    "       sep='\\n')\n"
   ]
  },
  {
   "cell_type": "code",
   "execution_count": 17,
   "metadata": {
    "scrolled": true
   },
   "outputs": [
    {
     "name": "stdout",
     "output_type": "stream",
     "text": [
      " ndarray()\n",
      "\n",
      "ndarray(shape, dtype=float, buffer=None, offset=0,\n",
      "        strides=None, order=None)\n",
      "\n",
      "An array object represents a multidimensional, homogeneous array\n",
      "of fixed-size items.  An associated data-type object describes the\n",
      "format of each element in the array (its byte-order, how many bytes it\n",
      "occupies in memory, whether it is an integer, a floating point number,\n",
      "or something else, etc.)\n",
      "\n",
      "Arrays should be constructed using `array`, `zeros` or `empty` (refer\n",
      "to the See Also section below).  The parameters given here refer to\n",
      "a low-level method (`ndarray(...)`) for instantiating an array.\n",
      "\n",
      "For more information, refer to the `numpy` module and examine the\n",
      "methods and attributes of an array.\n",
      "\n",
      "Parameters\n",
      "----------\n",
      "(for the __new__ method; see Notes below)\n",
      "\n",
      "shape : tuple of ints\n",
      "    Shape of created array.\n",
      "dtype : data-type, optional\n",
      "    Any object that can be interpreted as a numpy data type.\n",
      "buffer : object exposing buffer interface, optional\n",
      "    Used to fill the array with data.\n",
      "offset : int, optional\n",
      "    Offset of array data in buffer.\n",
      "strides : tuple of ints, optional\n",
      "    Strides of data in memory.\n",
      "order : {'C', 'F'}, optional\n",
      "    Row-major (C-style) or column-major (Fortran-style) order.\n",
      "\n",
      "Attributes\n",
      "----------\n",
      "T : ndarray\n",
      "    Transpose of the array.\n",
      "data : buffer\n",
      "    The array's elements, in memory.\n",
      "dtype : dtype object\n",
      "    Describes the format of the elements in the array.\n",
      "flags : dict\n",
      "    Dictionary containing information related to memory use, e.g.,\n",
      "    'C_CONTIGUOUS', 'OWNDATA', 'WRITEABLE', etc.\n",
      "flat : numpy.flatiter object\n",
      "    Flattened version of the array as an iterator.  The iterator\n",
      "    allows assignments, e.g., ``x.flat = 3`` (See `ndarray.flat` for\n",
      "    assignment examples; TODO).\n",
      "imag : ndarray\n",
      "    Imaginary part of the array.\n",
      "real : ndarray\n",
      "    Real part of the array.\n",
      "size : int\n",
      "    Number of elements in the array.\n",
      "itemsize : int\n",
      "    The memory use of each array element in bytes.\n",
      "nbytes : int\n",
      "    The total number of bytes required to store the array data,\n",
      "    i.e., ``itemsize * size``.\n",
      "ndim : int\n",
      "    The array's number of dimensions.\n",
      "shape : tuple of ints\n",
      "    Shape of the array.\n",
      "strides : tuple of ints\n",
      "    The step-size required to move from one element to the next in\n",
      "    memory. For example, a contiguous ``(3, 4)`` array of type\n",
      "    ``int16`` in C-order has strides ``(8, 2)``.  This implies that\n",
      "    to move from element to element in memory requires jumps of 2 bytes.\n",
      "    To move from row-to-row, one needs to jump 8 bytes at a time\n",
      "    (``2 * 4``).\n",
      "ctypes : ctypes object\n",
      "    Class containing properties of the array needed for interaction\n",
      "    with ctypes.\n",
      "base : ndarray\n",
      "    If the array is a view into another array, that array is its `base`\n",
      "    (unless that array is also a view).  The `base` array is where the\n",
      "    array data is actually stored.\n",
      "\n",
      "See Also\n",
      "--------\n",
      "array : Construct an array.\n",
      "zeros : Create an array, each element of which is zero.\n",
      "empty : Create an array, but leave its allocated memory unchanged (i.e.,\n",
      "        it contains \"garbage\").\n",
      "dtype : Create a data-type.\n",
      "\n",
      "Notes\n",
      "-----\n",
      "There are two modes of creating an array using ``__new__``:\n",
      "\n",
      "1. If `buffer` is None, then only `shape`, `dtype`, and `order`\n",
      "   are used.\n",
      "2. If `buffer` is an object exposing the buffer interface, then\n",
      "   all keywords are interpreted.\n",
      "\n",
      "No ``__init__`` method is needed because the array is fully initialized\n",
      "after the ``__new__`` method.\n",
      "\n",
      "Examples\n",
      "--------\n",
      "These examples illustrate the low-level `ndarray` constructor.  Refer\n",
      "to the `See Also` section above for easier ways of constructing an\n",
      "ndarray.\n",
      "\n",
      "First mode, `buffer` is None:\n",
      "\n",
      ">>> np.ndarray(shape=(2,2), dtype=float, order='F')\n",
      "array([[ -1.13698227e+002,   4.25087011e-303],\n",
      "       [  2.88528414e-306,   3.27025015e-309]])         #random\n",
      "\n",
      "Second mode:\n",
      "\n",
      ">>> np.ndarray((2,), buffer=np.array([1,2,3]),\n",
      "...            offset=np.int_().itemsize,\n",
      "...            dtype=int) # offset = 1*itemsize, i.e. skip first element\n",
      "array([2, 3])\n",
      "\n",
      "\n",
      "Methods:\n",
      "\n",
      "  all  --  a.all(axis=None, out=None, keepdims=False)\n",
      "  any  --  a.any(axis=None, out=None, keepdims=False)\n",
      "  argmax  --  a.argmax(axis=None, out=None)\n",
      "  argmin  --  a.argmin(axis=None, out=None)\n",
      "  argpartition  --  a.argpartition(kth, axis=-1, kind='introselect', order=None)\n",
      "  argsort  --  a.argsort(axis=-1, kind='quicksort', order=None)\n",
      "  astype  --  a.astype(dtype, order='K', casting='unsafe', subok=True, copy=True)\n",
      "  byteswap  --  a.byteswap(inplace=False)\n",
      "  choose  --  a.choose(choices, out=None, mode='raise')\n",
      "  clip  --  a.clip(min=None, max=None, out=None)\n",
      "  compress  --  a.compress(condition, axis=None, out=None)\n",
      "  conj  --  a.conj()\n",
      "  conjugate  --  a.conjugate()\n",
      "  copy  --  a.copy(order='C')\n",
      "  cumprod  --  a.cumprod(axis=None, dtype=None, out=None)\n",
      "  cumsum  --  a.cumsum(axis=None, dtype=None, out=None)\n",
      "  diagonal  --  a.diagonal(offset=0, axis1=0, axis2=1)\n",
      "  dot  --  a.dot(b, out=None)\n",
      "  dump  --  a.dump(file)\n",
      "  dumps  --  a.dumps()\n",
      "  fill  --  a.fill(value)\n",
      "  flatten  --  a.flatten(order='C')\n",
      "  getfield  --  a.getfield(dtype, offset=0)\n",
      "  item  --  a.item(*args)\n",
      "  itemset  --  a.itemset(*args)\n",
      "  max  --  a.max(axis=None, out=None, keepdims=False)\n",
      "  mean  --  a.mean(axis=None, dtype=None, out=None, keepdims=False)\n",
      "  min  --  a.min(axis=None, out=None, keepdims=False)\n",
      "  newbyteorder  --  arr.newbyteorder(new_order='S')\n",
      "  nonzero  --  a.nonzero()\n",
      "  partition  --  a.partition(kth, axis=-1, kind='introselect', order=None)\n",
      "  prod  --  a.prod(axis=None, dtype=None, out=None, keepdims=False)\n",
      "  ptp  --  a.ptp(axis=None, out=None, keepdims=False)\n",
      "  put  --  a.put(indices, values, mode='raise')\n",
      "  ravel  --  a.ravel([order])\n",
      "  repeat  --  a.repeat(repeats, axis=None)\n",
      "  reshape  --  a.reshape(shape, order='C')\n",
      "  resize  --  a.resize(new_shape, refcheck=True)\n",
      "  round  --  a.round(decimals=0, out=None)\n",
      "  searchsorted  --  a.searchsorted(v, side='left', sorter=None)\n",
      "  setfield  --  a.setfield(val, dtype, offset=0)\n",
      "  setflags  --  a.setflags(write=None, align=None, uic=None)\n",
      "  sort  --  a.sort(axis=-1, kind='quicksort', order=None)\n",
      "  squeeze  --  a.squeeze(axis=None)\n",
      "  std  --  a.std(axis=None, dtype=None, out=None, ddof=0, keepdims=False)\n",
      "  sum  --  a.sum(axis=None, dtype=None, out=None, keepdims=False)\n",
      "  swapaxes  --  a.swapaxes(axis1, axis2)\n",
      "  take  --  a.take(indices, axis=None, out=None, mode='raise')\n",
      "  tobytes  --  a.tobytes(order='C')\n",
      "  tofile  --  a.tofile(fid, sep=\"\", format=\"%s\")\n",
      "  tolist  --  a.tolist()\n",
      "  tostring  --  a.tostring(order='C')\n",
      "  trace  --  a.trace(offset=0, axis1=0, axis2=1, dtype=None, out=None)\n",
      "  transpose  --  a.transpose(*axes)\n",
      "  var  --  a.var(axis=None, dtype=None, out=None, ddof=0, keepdims=False)\n",
      "  view  --  a.view(dtype=None, type=None)\n"
     ]
    }
   ],
   "source": [
    "np.info(np.ndarray)"
   ]
  },
  {
   "cell_type": "markdown",
   "metadata": {},
   "source": [
    "### Arithmetic Operations"
   ]
  },
  {
   "cell_type": "code",
   "execution_count": 197,
   "metadata": {},
   "outputs": [
    {
     "name": "stdout",
     "output_type": "stream",
     "text": [
      "[5. 6. 7. 8. 9.]\n",
      "[1. 1. 1. 1. 1.]\n",
      "[4. 5. 6. 7. 8.]\n",
      "[ 6.  7.  8.  9. 10.]\n",
      "[0.83333333 0.85714286 0.875      0.88888889 0.9       ]\n",
      "[30. 42. 56. 72. 90.]\n",
      "[5. 6. 7. 8. 9.]\n",
      "[ 148.4131591   403.42879349 1096.63315843 2980.95798704 8103.08392758]\n",
      "[2.23606798 2.44948974 2.64575131 2.82842712 3.        ]\n",
      "[-0.95892427 -0.2794155   0.6569866   0.98935825  0.41211849]\n",
      "[1.60943791 1.79175947 1.94591015 2.07944154 2.19722458]\n",
      "35.0\n"
     ]
    }
   ],
   "source": [
    "a = np.linspace(5,9,5)\n",
    "b = np.ones(5)\n",
    "print (a, \n",
    "       b,\n",
    "       a-b, \n",
    "       a+b, \n",
    "       a/(a+b), \n",
    "       a*(a+b), \n",
    "       np.multiply(a, b), \n",
    "       np.exp(a), \n",
    "       np.sqrt(a), \n",
    "       np.sin(a), \n",
    "       np.log(a), \n",
    "       a.dot(b),\n",
    "       sep='\\n')"
   ]
  },
  {
   "cell_type": "markdown",
   "metadata": {},
   "source": [
    "### Comparison"
   ]
  },
  {
   "cell_type": "code",
   "execution_count": 199,
   "metadata": {},
   "outputs": [
    {
     "name": "stdout",
     "output_type": "stream",
     "text": [
      "[5. 6. 7. 8. 9.]\n",
      "[1. 1. 1. 1. 1.]\n",
      "[False False False False False]\n",
      "[False False False False False]\n",
      "[ True  True  True  True  True]\n"
     ]
    },
    {
     "data": {
      "text/plain": [
       "False"
      ]
     },
     "execution_count": 199,
     "metadata": {},
     "output_type": "execute_result"
    }
   ],
   "source": [
    "# Element-wise\n",
    "print(a,\n",
    "      b,\n",
    "      a == b, \n",
    "      a<b, \n",
    "      a>b,\n",
    "     sep='\\n')\n",
    "# Array-wise\n",
    "np.array_equal(a,b) "
   ]
  },
  {
   "cell_type": "markdown",
   "metadata": {},
   "source": [
    "### Aggregate Functions"
   ]
  },
  {
   "cell_type": "code",
   "execution_count": 201,
   "metadata": {},
   "outputs": [
    {
     "name": "stdout",
     "output_type": "stream",
     "text": [
      "[5. 6. 7. 8. 9.]\n",
      "35.0\n",
      "5.0\n",
      "9.0\n",
      "7.0\n"
     ]
    }
   ],
   "source": [
    "print (a, \n",
    "       a.sum(), \n",
    "       a.min(), \n",
    "       a.max(), \n",
    "       a.mean(),\n",
    "       sep='\\n')"
   ]
  },
  {
   "cell_type": "code",
   "execution_count": 202,
   "metadata": {},
   "outputs": [
    {
     "name": "stdout",
     "output_type": "stream",
     "text": [
      "[[2 4]\n",
      " [3 6]]\n",
      "6\n",
      "[3 6]\n",
      "[4 6]\n",
      "[[2 6]\n",
      " [3 9]]\n"
     ]
    }
   ],
   "source": [
    "a_2d = np.array([(2,4),(3,6)])\n",
    "print (a_2d,\n",
    "       a_2d.max(), \n",
    "       a_2d.max(axis=0), \n",
    "       a_2d.max(axis=1), \n",
    "       a_2d.cumsum(axis=1),\n",
    "       sep='\\n')"
   ]
  },
  {
   "cell_type": "markdown",
   "metadata": {},
   "source": [
    "### Copying & Sorting"
   ]
  },
  {
   "cell_type": "code",
   "execution_count": 203,
   "metadata": {},
   "outputs": [
    {
     "data": {
      "text/plain": [
       "array([5., 6., 7., 8., 9.])"
      ]
     },
     "execution_count": 203,
     "metadata": {},
     "output_type": "execute_result"
    }
   ],
   "source": [
    "a.view()\n",
    "np.copy(a)\n",
    "a.copy() # deep copy\n",
    "a.sort(axis=0)\n",
    "a"
   ]
  },
  {
   "cell_type": "markdown",
   "metadata": {},
   "source": [
    "### Subsetting, Slicing, Indexing"
   ]
  },
  {
   "cell_type": "code",
   "execution_count": 208,
   "metadata": {},
   "outputs": [
    {
     "name": "stdout",
     "output_type": "stream",
     "text": [
      "1d:\n",
      "[1 2 3]\n",
      "3\n",
      "[1 2]\n",
      "2d:\n",
      "[[1 2 3]\n",
      " [4 5 6]]\n",
      "6\n",
      "[2 5]\n",
      "[[1 2 3]]\n",
      "[4 5 6]\n"
     ]
    }
   ],
   "source": [
    "ssi_a = np.array([1,2,3])\n",
    "ssi_b = np.array([(1,2,3),(4,5,6)])\n",
    "print ('1d:',\n",
    "       ssi_a, \n",
    "       ssi_a[2], \n",
    "       ssi_a[0:2], \n",
    "       '2d:',\n",
    "       ssi_b,\n",
    "       ssi_b[1,2], \n",
    "       ssi_b[0:2, 1], \n",
    "       ssi_b[:1],\n",
    "       ssi_b[1, ...],\n",
    "       sep='\\n')"
   ]
  },
  {
   "cell_type": "code",
   "execution_count": 209,
   "metadata": {},
   "outputs": [
    {
     "name": "stdout",
     "output_type": "stream",
     "text": [
      "[[1 2 3]\n",
      " [4 5 6]]\n",
      "Reversed array:\n",
      "[[4 5 6]\n",
      " [1 2 3]]\n"
     ]
    }
   ],
   "source": [
    "print(ssi_b, \n",
    "      'Reversed array:',\n",
    "      ssi_b[: :-1],\n",
    "      sep='\\n')"
   ]
  },
  {
   "cell_type": "code",
   "execution_count": 25,
   "metadata": {},
   "outputs": [
    {
     "data": {
      "text/plain": [
       "array([3, 4, 5, 6])"
      ]
     },
     "execution_count": 25,
     "metadata": {},
     "output_type": "execute_result"
    }
   ],
   "source": [
    "ssi_b[ssi_b>2] # select elements less than 2"
   ]
  },
  {
   "cell_type": "markdown",
   "metadata": {},
   "source": [
    "### Fancy Indexing\n",
    "[Exploring Fancy Indexing](https://jakevdp.github.io/PythonDataScienceHandbook/02.07-fancy-indexing.html)"
   ]
  },
  {
   "cell_type": "code",
   "execution_count": 215,
   "metadata": {},
   "outputs": [
    {
     "name": "stdout",
     "output_type": "stream",
     "text": [
      "[[ 0  1  2  3]\n",
      " [ 4  5  6  7]\n",
      " [ 8  9 10 11]]\n",
      "[0 1 2]\n",
      "[2 1 0]\n",
      "[2 5 8]\n",
      "New axis:\n",
      "[[0]\n",
      " [1]\n",
      " [2]]\n",
      "[[1]\n",
      " [5]\n",
      " [9]]\n",
      "[[ 2  1  0]\n",
      " [ 6  5  4]\n",
      " [10  9  8]]\n",
      "[[0 0 0]\n",
      " [2 1 0]\n",
      " [4 2 0]]\n"
     ]
    }
   ],
   "source": [
    "f_a = np.arange(12).reshape(3,4)\n",
    "row = np.array([0,1,2])\n",
    "col = np.array([2,1,0])\n",
    "print (f_a, \n",
    "       row,\n",
    "       col,\n",
    "       f_a[row,col],\n",
    "       'New axis:',\n",
    "       row[:, np.newaxis],\n",
    "       f_a[row[:, np.newaxis], 1], \n",
    "       f_a[row[:, np.newaxis], col],\n",
    "       row[:, np.newaxis]*col,\n",
    "       sep='\\n')"
   ]
  },
  {
   "cell_type": "markdown",
   "metadata": {},
   "source": [
    "### Combined Indexing (Fancy + other indexing schemes)"
   ]
  },
  {
   "cell_type": "code",
   "execution_count": 27,
   "metadata": {},
   "outputs": [
    {
     "name": "stdout",
     "output_type": "stream",
     "text": [
      "[[ 0  1  2  3]\n",
      " [ 4  5  6  7]\n",
      " [ 8  9 10 11]]\n"
     ]
    },
    {
     "data": {
      "text/plain": [
       "(array([10,  8]), array([[2, 0],\n",
       "        [6, 4]]), array([[ 0,  2],\n",
       "        [ 4,  6],\n",
       "        [ 8, 10]]))"
      ]
     },
     "execution_count": 27,
     "metadata": {},
     "output_type": "execute_result"
    }
   ],
   "source": [
    "print(f_a)\n",
    "mask = np.array([1,0,1,0], dtype=bool)\n",
    "f_a[2, [2,0]], f_a[:2, [2,0]], f_a[row[:, np.newaxis], mask]\n"
   ]
  },
  {
   "cell_type": "markdown",
   "metadata": {},
   "source": [
    "### Selecting Random Points"
   ]
  },
  {
   "cell_type": "code",
   "execution_count": 28,
   "metadata": {},
   "outputs": [
    {
     "data": {
      "text/plain": [
       "(100, 2)"
      ]
     },
     "execution_count": 28,
     "metadata": {},
     "output_type": "execute_result"
    }
   ],
   "source": [
    "mean = [0,0]\n",
    "cov = [[1,2],\n",
    "      [2,5]]\n",
    "X = np.random.multivariate_normal(mean, cov, 100)\n",
    "X.shape"
   ]
  },
  {
   "cell_type": "code",
   "execution_count": 29,
   "metadata": {},
   "outputs": [
    {
     "data": {
      "text/plain": [
       "<matplotlib.collections.PathCollection at 0x7f522c722080>"
      ]
     },
     "execution_count": 29,
     "metadata": {},
     "output_type": "execute_result"
    },
    {
     "data": {
      "image/png": "[encoded data removed]",
      "text/plain": [
       "<Figure size 432x288 with 1 Axes>"
      ]
     },
     "metadata": {},
     "output_type": "display_data"
    }
   ],
   "source": [
    "%matplotlib inline\n",
    "import matplotlib.pyplot as plt\n",
    "import seaborn; seaborn.set()   # for plot styling\n",
    "plt.scatter(X[:,0], X[:, 1])"
   ]
  },
  {
   "cell_type": "code",
   "execution_count": 30,
   "metadata": {},
   "outputs": [
    {
     "data": {
      "text/plain": [
       "(20, 2)"
      ]
     },
     "execution_count": 30,
     "metadata": {},
     "output_type": "execute_result"
    }
   ],
   "source": [
    "indices = np.random.choice(X.shape[0], 20, replace=False)\n",
    "selection = X[indices]\n",
    "selection.shape"
   ]
  },
  {
   "cell_type": "markdown",
   "metadata": {},
   "source": [
    "Now to see which points were selected, let's over-plot large circles at the locations of the selected points:\n",
    "`This sort of strategy is often used to quickly partition datasets, as is often needed in train/test splitting for validation of statistical models (see Hyperparameters and Model Validation), and in sampling approaches to answering statistical questions.`"
   ]
  },
  {
   "cell_type": "code",
   "execution_count": 32,
   "metadata": {},
   "outputs": [
    {
     "data": {
      "text/plain": [
       "<matplotlib.collections.PathCollection at 0x7f522c615fd0>"
      ]
     },
     "execution_count": 32,
     "metadata": {},
     "output_type": "execute_result"
    },
    {
     "data": {
      "image/png": "[encoded data removed]",
      "text/plain": [
       "<Figure size 432x288 with 1 Axes>"
      ]
     },
     "metadata": {
      "needs_background": "light"
     },
     "output_type": "display_data"
    }
   ],
   "source": [
    "plt.scatter(X[:, 0], X[:,1], alpha=0.3)\n",
    "plt.scatter(selection[:, 0], selection[:, 1], facecolor='none', s=200, edgecolor='gray')\n"
   ]
  },
  {
   "cell_type": "markdown",
   "metadata": {},
   "source": [
    "### Modifying Values with Fancy Indexing"
   ]
  },
  {
   "cell_type": "code",
   "execution_count": 38,
   "metadata": {},
   "outputs": [
    {
     "name": "stdout",
     "output_type": "stream",
     "text": [
      "[0 1 2 3 4 5 6 7 8 9] \n",
      "\n",
      "[ 0 99 99  3 99  5 99  7  8  9] \n",
      "\n",
      "[ 0 89 89  3 89  5 89  7  8  9] \n",
      "\n"
     ]
    }
   ],
   "source": [
    "x = np.arange(10)\n",
    "i = np.array([2,1,4,6])\n",
    "print (x, '\\n')\n",
    "x[i] = 99 # set corresponding items in an array to some value\n",
    "print (x, '\\n')\n",
    "x[i] -= 10 # can use any assignment-type operator\n",
    "print (x, '\\n')"
   ]
  },
  {
   "cell_type": "markdown",
   "metadata": {},
   "source": [
    "1 You might expect that x[3] would contain the value 2, and x[4] would contain the value 3, as this is how many times each index is repeated. Why is this not the case? Conceptually, this is because x[i] += 1 is meant as a shorthand of x[i] = x[i] + 1. x[i] + 1 is evaluated, and then the result is assigned to the indices in x. With this in mind, it is not the augmentation that happens multiple times, but the assignment, which leads to the rather nonintuitive results.\n",
    "So what if you want the other behavior where the operation is repeated? For this, you can use the at() method of ufuncs (available since NumPy 1.8)"
   ]
  },
  {
   "cell_type": "code",
   "execution_count": 44,
   "metadata": {},
   "outputs": [
    {
     "name": "stdout",
     "output_type": "stream",
     "text": [
      "[6. 0. 0. 0. 0. 0. 0. 0. 0. 0.] \n",
      "\n",
      "[6. 0. 1. 1. 1. 0. 0. 0. 0. 0.] \n",
      "\n",
      "[0. 0. 1. 2. 3. 0. 0. 0. 0. 0.] \n",
      "\n"
     ]
    }
   ],
   "source": [
    "x = np.zeros(10)\n",
    "x[[0,0]] = [4,6] # repeated indices, 4 was overwritten by 6\n",
    "print (x, '\\n')\n",
    "i = [2, 3, 3, 4, 4, 4]\n",
    "x[i] += 1 # refer 1 above\n",
    "print (x, '\\n')\n",
    "x = np.zeros(10)\n",
    "np.add.at(x, i, 1) # for repeated operations\n",
    "print (x, '\\n')"
   ]
  },
  {
   "cell_type": "markdown",
   "metadata": {},
   "source": [
    "### Binning Data using above ideas"
   ]
  },
  {
   "cell_type": "code",
   "execution_count": 49,
   "metadata": {},
   "outputs": [
    {
     "data": {
      "text/plain": [
       "array([ 0.,  0.,  0.,  0.,  0.,  1.,  3.,  7.,  9., 23., 22., 17., 10.,\n",
       "        7.,  1.,  0.,  0.,  0.,  0.,  0.])"
      ]
     },
     "execution_count": 49,
     "metadata": {},
     "output_type": "execute_result"
    }
   ],
   "source": [
    "np.random.seed(42)\n",
    "x = np.random.randn(100)\n",
    "\n",
    "# compute histogram by hand\n",
    "bins = np.linspace(-5,5,20)\n",
    "counts = np.zeros_like(bins)\n",
    "# find the appropriate bin for each x\n",
    "i = np.searchsorted(bins, x)\n",
    "# add 1 to each of these bins\n",
    "np.add.at(counts, i, 1) \n",
    "# counts now reflect the number of points within each bin (histogram)\n",
    "counts"
   ]
  },
  {
   "cell_type": "code",
   "execution_count": 50,
   "metadata": {},
   "outputs": [
    {
     "data": {
      "text/plain": [
       "[<matplotlib.lines.Line2D at 0x7f522c138160>]"
      ]
     },
     "execution_count": 50,
     "metadata": {},
     "output_type": "execute_result"
    },
    {
     "data": {
      "image/png": "[encoded data removed]",
      "text/plain": [
       "<Figure size 432x288 with 1 Axes>"
      ]
     },
     "metadata": {
      "needs_background": "light"
     },
     "output_type": "display_data"
    }
   ],
   "source": [
    "plt.plot(bins, counts, linestyle='steps')"
   ]
  },
  {
   "cell_type": "code",
   "execution_count": 52,
   "metadata": {},
   "outputs": [
    {
     "data": {
      "text/plain": [
       "(array([ 0.,  0.,  0.,  0.,  1.,  3.,  7.,  9., 23., 22., 17., 10.,  7.,\n",
       "         1.,  0.,  0.,  0.,  0.,  0.]),\n",
       " array([-5.        , -4.47368421, -3.94736842, -3.42105263, -2.89473684,\n",
       "        -2.36842105, -1.84210526, -1.31578947, -0.78947368, -0.26315789,\n",
       "         0.26315789,  0.78947368,  1.31578947,  1.84210526,  2.36842105,\n",
       "         2.89473684,  3.42105263,  3.94736842,  4.47368421,  5.        ]),\n",
       " <a list of 1 Patch objects>)"
      ]
     },
     "execution_count": 52,
     "metadata": {},
     "output_type": "execute_result"
    },
    {
     "data": {
      "image/png": "[encoded data removed]",
      "text/plain": [
       "<Figure size 432x288 with 1 Axes>"
      ]
     },
     "metadata": {
      "needs_background": "light"
     },
     "output_type": "display_data"
    }
   ],
   "source": [
    "plt.hist(x, bins, histtype='step') # matplotlib does the same in singe line\n"
   ]
  },
  {
   "cell_type": "markdown",
   "metadata": {},
   "source": [
    "#### Compare the performance of np.histogram vs np.searchsorted"
   ]
  },
  {
   "cell_type": "code",
   "execution_count": 54,
   "metadata": {},
   "outputs": [
    {
     "name": "stdout",
     "output_type": "stream",
     "text": [
      "Numpy routine:\n",
      "19.4 µs ± 457 ns per loop (mean ± std. dev. of 7 runs, 10000 loops each)\n",
      "Custom routine:\n",
      "11 µs ± 26.6 ns per loop (mean ± std. dev. of 7 runs, 100000 loops each)\n"
     ]
    }
   ],
   "source": [
    "print (\"NumPy routine:\")\n",
    "%timeit counts, edges = np.histogram(x, bins)\n",
    "print (\"Custom routine:\")\n",
    "%timeit np.add.at(counts, np.searchsorted(bins, x),  1)"
   ]
  },
  {
   "cell_type": "markdown",
   "metadata": {},
   "source": [
    "Our own one-line algorithm is several times faster than the optimized algorithm in NumPy! How can this be? If you dig into the np.histogram source code (you can do this in IPython by typing np.histogram??), you'll see that it's quite a bit more involved than the simple search-and-count that we've done; this is because NumPy's algorithm is more flexible, and particularly is designed for better performance when the number of data points becomes large:"
   ]
  },
  {
   "cell_type": "code",
   "execution_count": 55,
   "metadata": {},
   "outputs": [
    {
     "name": "stdout",
     "output_type": "stream",
     "text": [
      "NumPy routine:\n",
      "55.5 ms ± 704 µs per loop (mean ± std. dev. of 7 runs, 10 loops each)\n",
      "Custom routine:\n",
      "85.2 ms ± 1.6 ms per loop (mean ± std. dev. of 7 runs, 10 loops each)\n"
     ]
    }
   ],
   "source": [
    "x = np.random.randn(1000000)\n",
    "print (\"NumPy routine:\")\n",
    "%timeit counts, edges = np.histogram(x, bins)\n",
    "print (\"Custom routine:\")\n",
    "%timeit np.add.at(counts, np.searchsorted(bins, x), 1)"
   ]
  },
  {
   "cell_type": "markdown",
   "metadata": {},
   "source": [
    "What this comparison shows is that algorithmic efficiency is almost never a simple question. An algorithm efficient for large datasets will not always be the best choice for small datasets, and vice versa (see Big-O Notation)"
   ]
  },
  {
   "cell_type": "markdown",
   "metadata": {},
   "source": [
    "### Array Manipulation"
   ]
  },
  {
   "cell_type": "code",
   "execution_count": 82,
   "metadata": {},
   "outputs": [
    {
     "data": {
      "text/plain": [
       "((5, 2), (2, 5), (2, 5))"
      ]
     },
     "execution_count": 82,
     "metadata": {},
     "output_type": "execute_result"
    }
   ],
   "source": [
    "# b = np.arange(10)\n",
    "b = np.array(b)\n",
    "b = b.reshape(5,2) \n",
    "b.shape, b.T.shape, np.transpose(b).shape # transpose"
   ]
  },
  {
   "cell_type": "code",
   "execution_count": 96,
   "metadata": {},
   "outputs": [
    {
     "data": {
      "text/plain": [
       "(array([0, 1, 2, 3, 4, 5, 6, 7, 8, 9]), array([[0, 1, 2, 3, 4],\n",
       "        [5, 6, 7, 8, 9]]))"
      ]
     },
     "execution_count": 96,
     "metadata": {},
     "output_type": "execute_result"
    }
   ],
   "source": [
    "b.ravel(), b.reshape(2, -1) # flatten, reshape -1 > shape inferred"
   ]
  },
  {
   "cell_type": "code",
   "execution_count": 143,
   "metadata": {},
   "outputs": [
    {
     "name": "stdout",
     "output_type": "stream",
     "text": [
      "[[0 1]\n",
      " [2 3]]\n",
      "[[4 5]]\n",
      "Append items to array:\n",
      "[0 1 2 3 4 5]\n",
      "[[0 1]\n",
      " [2 3]\n",
      " [4 5]]\n",
      "Insert items\n",
      "[ 4 99  5]\n",
      "Delete items\n",
      "[4]\n"
     ]
    }
   ],
   "source": [
    "# Adding/Removing Elements\n",
    "a = np.array(np.arange(4))\n",
    "b = np.array(np.arange(4, 6, 1))\n",
    "a.resize(2,2)\n",
    "b.resize(1,2)\n",
    "print(a, b, \n",
    "      'Append items to array:',\n",
    "      np.append(a,b), \n",
    "      np.append(a,b, axis=0), \n",
    "      'Insert items',\n",
    "      np.insert(b, 1, 99),\n",
    "      'Delete items',\n",
    "      np.delete(b, 1),\n",
    "      sep='\\n')"
   ]
  },
  {
   "cell_type": "markdown",
   "metadata": {},
   "source": [
    "#### Combining Arrays"
   ]
  },
  {
   "cell_type": "code",
   "execution_count": 169,
   "metadata": {},
   "outputs": [
    {
     "name": "stdout",
     "output_type": "stream",
     "text": [
      "[[0 1]\n",
      " [2 3]]\n",
      "[[4 5]]\n",
      "Concatenate:\n",
      "[[0 1]\n",
      " [2 3]\n",
      " [4 5]]\n",
      "[[0 1]\n",
      " [2 3]\n",
      " [4 5]]\n",
      "Stack vertically:\n",
      "[[0 1]\n",
      " [2 3]\n",
      " [4 5]]\n",
      "Stack horizontally:\n",
      "[[4]\n",
      " [5]]\n",
      "[[0 1 4]\n",
      " [2 3 5]]\n",
      "[[0 1 4]\n",
      " [2 3 5]]\n",
      "[[0 1 4]\n",
      " [2 3 5]]\n"
     ]
    }
   ],
   "source": [
    "a = np.array(np.arange(4))\n",
    "b = np.array(np.arange(4, 6, 1))\n",
    "a.resize(2,2)\n",
    "b.resize(1,2)\n",
    "c = b.reshape(2,1)\n",
    "print(a,\n",
    "      b,\n",
    "      'Concatenate:',\n",
    "      np.concatenate((a,b)),\n",
    "      np.concatenate((a,b), axis=0),\n",
    "      'Stack vertically:',\n",
    "      np.vstack((a,b)),\n",
    "      'Stack horizontally:',\n",
    "      c,\n",
    "      np.hstack((a,c)),\n",
    "      np.column_stack((a, c)),\n",
    "      np.c_[a,c],\n",
    "      sep='\\n')"
   ]
  },
  {
   "cell_type": "markdown",
   "metadata": {},
   "source": [
    "#### Splitting Arrays"
   ]
  },
  {
   "cell_type": "code",
   "execution_count": 190,
   "metadata": {},
   "outputs": [
    {
     "name": "stdout",
     "output_type": "stream",
     "text": [
      "[[ 0  1  2  3  4  5]\n",
      " [ 6  7  8  9 10 11]\n",
      " [12 13 14 15 16 17]\n",
      " [18 19 20 21 22 23]]\n",
      "Horizontal split (column-wise: axis=1):\n",
      "[array([[ 0,  1,  2],\n",
      "       [ 6,  7,  8],\n",
      "       [12, 13, 14],\n",
      "       [18, 19, 20]]), array([[ 3,  4,  5],\n",
      "       [ 9, 10, 11],\n",
      "       [15, 16, 17],\n",
      "       [21, 22, 23]])]\n",
      "Vertical split (row-wise):\n",
      "[array([[ 0,  1,  2,  3,  4,  5],\n",
      "       [ 6,  7,  8,  9, 10, 11]]), array([[12, 13, 14, 15, 16, 17],\n",
      "       [18, 19, 20, 21, 22, 23]])]\n"
     ]
    },
    {
     "data": {
      "text/plain": [
       "(4, 6)"
      ]
     },
     "execution_count": 190,
     "metadata": {},
     "output_type": "execute_result"
    }
   ],
   "source": [
    "a = np.array(np.arange(24))\n",
    "a.resize(4,6)\n",
    "print(a, \n",
    "      'Horizontal split (column-wise: axis=1):',\n",
    "      np.hsplit(a, 2),\n",
    "      'Vertical split (row-wise):',\n",
    "      np.vsplit(a,2),\n",
    "      sep='\\n')\n",
    "a.shape"
   ]
  }
 ],
 "metadata": {
  "kernelspec": {
   "display_name": "Python 3",
   "language": "python",
   "name": "python3"
  },
  "language_info": {
   "codemirror_mode": {
    "name": "ipython",
    "version": 3
   },
   "file_extension": ".py",
   "mimetype": "text/x-python",
   "name": "python",
   "nbconvert_exporter": "python",
   "pygments_lexer": "ipython3",
   "version": "3.7.3"
  }
 },
 "nbformat": 4,
 "nbformat_minor": 2
}
