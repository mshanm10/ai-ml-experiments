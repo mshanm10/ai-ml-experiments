{
 "cells": [
  {
   "cell_type": "markdown",
   "metadata": {},
   "source": [
    "# Reference\n",
    "1. [Pandas cheat sheet](https://www.datacamp.com/community/blog/python-pandas-cheat-sheet?utm_source=adwords_ppc&utm_campaignid=1655852085&utm_adgroupid=77088685371&utm_device=c&utm_keyword=%2Bpandas%20%2Bcheat%20%2Bsheet&utm_matchtype=b&utm_network=g&utm_adpostion=1t1&utm_creative=353755544529&utm_targetid=kwd-589281899014&utm_loc_interest_ms=&utm_loc_physical_ms=9000793&gclid=CjwKCAjw67XpBRBqEiwA5RCocVWMpnazlHIJGEEqW83LjocjElilDgofAjdjuBQqe0-zMV_Mu6nhjRoCXkgQAvD_BwE)\n",
    "2. [Selecting Subsets of Datasets](https://medium.com/dunder-data/selecting-subsets-of-data-in-pandas-6fcd0170be9c)"
   ]
  },
  {
   "cell_type": "code",
   "execution_count": 170,
   "metadata": {},
   "outputs": [],
   "source": [
    "import pandas as pd\n",
    "import numpy as np"
   ]
  },
  {
   "cell_type": "markdown",
   "metadata": {},
   "source": [
    "## Pandas Data Structures"
   ]
  },
  {
   "cell_type": "code",
   "execution_count": 9,
   "metadata": {},
   "outputs": [
    {
     "name": "stdout",
     "output_type": "stream",
     "text": [
      "Series:\n",
      "a    3\n",
      "b   -7\n",
      "c    4\n",
      "d    9\n",
      "dtype: int64\n",
      "Dataframe:\n",
      "   Country    Capital  Population\n",
      "0  Belgium   Brussels    11190846\n",
      "1    India  New Delhi  1303171035\n",
      "2   Brazil   Brasilia   207847528\n"
     ]
    }
   ],
   "source": [
    "data = {'Country': ['Belgium', 'India', 'Brazil'],\n",
    "       'Capital': ['Brussels', 'New Delhi', 'Brasilia'],\n",
    "       'Population': [11190846, 1303171035, 207847528]}\n",
    "print ('Series:',\n",
    "       pd.Series([3,-7,4,9], index=['a','b','c','d']),\n",
    "       'Dataframe:',\n",
    "       pd.DataFrame(data, \n",
    "                   columns=['Country', 'Capital', 'Population']),\n",
    "       sep='\\n')"
   ]
  },
  {
   "cell_type": "markdown",
   "metadata": {},
   "source": [
    "## I/O"
   ]
  },
  {
   "cell_type": "code",
   "execution_count": 19,
   "metadata": {},
   "outputs": [
    {
     "name": "stdout",
     "output_type": "stream",
     "text": [
      "   Country    Capital  Population\n",
      "0  Belgium   Brussels    11190846\n",
      "1    India  New Delhi  1303171035\n",
      "2   Brazil   Brasilia   207847528\n",
      "2 rows read from file:\n",
      "   Unnamed: 0  Country    Capital  Population\n",
      "0           0  Belgium   Brussels    11190846\n",
      "1           1    India  New Delhi  1303171035\n"
     ]
    }
   ],
   "source": [
    "# Read and Write to CSV\n",
    "df = pd.DataFrame(data, \n",
    "             columns=['Country', 'Capital', 'Population'])\n",
    "df.to_csv('tmp/myDataFrame.csv')\n",
    "print(df,\n",
    "      '2 rows read from file:',\n",
    "      pd.read_csv('tmp/myDataFrame.csv', nrows=2),\n",
    "      sep='\\n')"
   ]
  },
  {
   "cell_type": "markdown",
   "metadata": {},
   "source": [
    "## Selection"
   ]
  },
  {
   "cell_type": "code",
   "execution_count": 158,
   "metadata": {},
   "outputs": [
    {
     "name": "stdout",
     "output_type": "stream",
     "text": [
      "a    3\n",
      "b   -7\n",
      "c    4\n",
      "d    9\n",
      "dtype: int64\n",
      "Selection:\n",
      "-7\n",
      "=DataFrame=:\n",
      "   Country    Capital  Population\n",
      "0  Belgium   Brussels    11190846\n",
      "1    India  New Delhi  1303171035\n",
      "2   Brazil   Brasilia   207847528\n",
      "  Country    Capital  Population\n",
      "1   India  New Delhi  1303171035\n",
      "2  Brazil   Brasilia   207847528\n",
      "=Select Multiple Columns=:\n",
      "   Country  Population\n",
      "0  Belgium    11190846\n",
      "1    India  1303171035\n",
      "2   Brazil   207847528\n",
      "=Select using regex=:\n",
      "   Country    Capital\n",
      "0  Belgium   Brussels\n",
      "1    India  New Delhi\n",
      "2   Brazil   Brasilia\n",
      "   Country   Capital  Population\n",
      "0  Belgium  Brussels    11190846\n",
      "  Country   Capital  Population\n",
      "2  Brazil  Brasilia   207847528\n",
      "=Sample=:\n",
      "   Country   Capital  Population\n",
      "0  Belgium  Brussels    11190846\n",
      "2   Brazil  Brasilia   207847528\n",
      "   Country   Capital  Population\n",
      "0  Belgium  Brussels    11190846\n",
      "=Top n entries ordered=:\n",
      "  Country    Capital  Population\n",
      "1   India  New Delhi  1303171035\n",
      "2  Brazil   Brasilia   207847528\n",
      "=Bottom n entries ordered=:\n",
      "   Country   Capital  Population\n",
      "0  Belgium  Brussels    11190846\n",
      "2   Brazil  Brasilia   207847528\n"
     ]
    }
   ],
   "source": [
    "s = pd.Series([3,-7,4,9], index=['a','b','c','d'])\n",
    "print (s,\n",
    "       'Selection:',\n",
    "       s['b'],\n",
    "       \"=DataFrame=:\",\n",
    "       df,\n",
    "       df[1:],\n",
    "       '=Select Multiple Columns=:',\n",
    "       df[['Country', 'Population']],\n",
    "       \"=Select using regex=:\",\n",
    "       df.filter(regex='^C'),\n",
    "       df.head(1),\n",
    "       df.tail(1),\n",
    "       \"=Sample=:\",\n",
    "       df.sample(frac=0.5),\n",
    "       df.sample(n=1),\n",
    "       '=Top n entries ordered=:',\n",
    "       df.nlargest(2, 'Population'),\n",
    "       \"=Bottom n entries ordered=:\",\n",
    "       df.nsmallest(2, 'Population'),\n",
    "       sep='\\n')"
   ]
  },
  {
   "cell_type": "markdown",
   "metadata": {},
   "source": [
    "### Selection by Position"
   ]
  },
  {
   "cell_type": "code",
   "execution_count": 161,
   "metadata": {},
   "outputs": [
    {
     "name": "stdout",
     "output_type": "stream",
     "text": [
      "   Country    Capital  Population\n",
      "0  Belgium   Brussels    11190846\n",
      "1    India  New Delhi  1303171035\n",
      "2   Brazil   Brasilia   207847528\n",
      "=Selection [0,0]=:\n",
      "   Country\n",
      "0  Belgium\n",
      "=select all rows=:\n",
      "   Country\n",
      "0  Belgium\n",
      "1    India\n",
      "2   Brazil\n",
      "=select rows meeting logical condition=:\n",
      "  Country  Population\n",
      "1   India  1303171035\n",
      "2  Brazil   207847528\n",
      "<class 'pandas.core.frame.DataFrame'>\n",
      "Belgium\n",
      "<class 'str'>\n"
     ]
    }
   ],
   "source": [
    "print (df,\n",
    "       '=Selection [0,0]=:',\n",
    "       df.iloc[[0],[0]],\n",
    "       '=select all rows=:',\n",
    "       df.iloc[:, [0]],\n",
    "       \"=select rows meeting logical condition=:\",\n",
    "       df.loc[df['Population']>150000000, ['Country', 'Population']],\n",
    "       type(df.iloc[[0],[0]]),\n",
    "       df.iat[0,0],\n",
    "       type(df.iat[0,0]),\n",
    "       sep='\\n')"
   ]
  },
  {
   "cell_type": "markdown",
   "metadata": {},
   "source": [
    "### Selection by Label"
   ]
  },
  {
   "cell_type": "code",
   "execution_count": 40,
   "metadata": {},
   "outputs": [
    {
     "name": "stdout",
     "output_type": "stream",
     "text": [
      "   Country    Capital  Population\n",
      "0  Belgium   Brussels    11190846\n",
      "1    India  New Delhi  1303171035\n",
      "2   Brazil   Brasilia   207847528\n",
      "   Country\n",
      "0  Belgium\n",
      "Belgium\n"
     ]
    }
   ],
   "source": [
    "print (df,\n",
    "       df.loc[[0], ['Country']],\n",
    "       df.at[0, 'Country'],\n",
    "       sep='\\n')"
   ]
  },
  {
   "cell_type": "markdown",
   "metadata": {},
   "source": [
    "### Boolean Indexing"
   ]
  },
  {
   "cell_type": "code",
   "execution_count": 51,
   "metadata": {},
   "outputs": [
    {
     "name": "stdout",
     "output_type": "stream",
     "text": [
      "a    3\n",
      "b   -7\n",
      "c    4\n",
      "d    9\n",
      "dtype: int64\n",
      "a    3\n",
      "c    4\n",
      "d    9\n",
      "dtype: int64\n",
      "b   -7\n",
      "dtype: int64\n",
      "a    3\n",
      "b   -7\n",
      "d    9\n",
      "dtype: int64\n",
      "   Country    Capital  Population\n",
      "0  Belgium   Brussels    11190846\n",
      "1    India  New Delhi  1303171035\n",
      "2   Brazil   Brasilia   207847528\n",
      "  Country    Capital  Population\n",
      "1   India  New Delhi  1303171035\n"
     ]
    }
   ],
   "source": [
    "print (s,\n",
    "       s[s>1],\n",
    "       s[~(s>1)],\n",
    "       s[(s>8) | (s<4)],\n",
    "       df,\n",
    "       df[df['Population']>1200000000],\n",
    "       sep='\\n')"
   ]
  },
  {
   "cell_type": "markdown",
   "metadata": {},
   "source": [
    "### Setting"
   ]
  },
  {
   "cell_type": "code",
   "execution_count": 53,
   "metadata": {},
   "outputs": [
    {
     "name": "stdout",
     "output_type": "stream",
     "text": [
      "a    6\n",
      "b   -7\n",
      "c    4\n",
      "d    9\n",
      "dtype: int64\n"
     ]
    }
   ],
   "source": [
    "s['a']=6\n",
    "print (s)"
   ]
  },
  {
   "cell_type": "markdown",
   "metadata": {},
   "source": [
    "### Dropping & Fillna"
   ]
  },
  {
   "cell_type": "code",
   "execution_count": 164,
   "metadata": {},
   "outputs": [
    {
     "name": "stdout",
     "output_type": "stream",
     "text": [
      "a    3\n",
      "b   -7\n",
      "c    4\n",
      "d    9\n",
      "dtype: int64\n",
      "b   -7\n",
      "d    9\n",
      "dtype: int64\n",
      "   Country    Capital  Population\n",
      "0  Belgium   Brussels    11190846\n",
      "1    India  New Delhi  1303171035\n",
      "2   Brazil   Brasilia   207847528\n",
      "=drop column=:\n",
      "     Capital  Population\n",
      "0   Brussels    11190846\n",
      "1  New Delhi  1303171035\n",
      "2   Brasilia   207847528\n",
      "     Capital\n",
      "0   Brussels\n",
      "1  New Delhi\n",
      "2   Brasilia\n",
      "   Country    Capital  Population\n",
      "0  Belgium   Brussels    11190846\n",
      "1    India  New Delhi  1303171035\n"
     ]
    }
   ],
   "source": [
    "print (s, \n",
    "       s.drop(['a','c']),\n",
    "       df,\n",
    "       '=drop column=:',\n",
    "       df.drop('Country', axis=1),\n",
    "       df.drop(columns=['Country', 'Population']),\n",
    "       df.drop(2),\n",
    "       sep='\\n')"
   ]
  },
  {
   "cell_type": "code",
   "execution_count": 174,
   "metadata": {},
   "outputs": [
    {
     "name": "stdout",
     "output_type": "stream",
     "text": [
      "       Name Gender\n",
      "0      John      M\n",
      "1  Christie    NaN\n",
      "2     Kelly   None\n",
      "   Name Gender\n",
      "0  John      M\n",
      "       Name        Gender\n",
      "0      John             M\n",
      "1  Christie  not provided\n",
      "2     Kelly  not provided\n"
     ]
    }
   ],
   "source": [
    "df_drop = pd.DataFrame({'Name': ['John', 'Christie', 'Kelly'], \n",
    "                        'Gender': ['M', np.nan, None]})\n",
    "print(df_drop, \n",
    "      df_drop.dropna(),\n",
    "      df_drop.fillna('not provided'),\n",
    "      sep='\\n')"
   ]
  },
  {
   "cell_type": "markdown",
   "metadata": {},
   "source": [
    "### Sort and Rank"
   ]
  },
  {
   "cell_type": "code",
   "execution_count": 130,
   "metadata": {},
   "outputs": [
    {
     "name": "stdout",
     "output_type": "stream",
     "text": [
      "   Country    Capital  Population\n",
      "0  Belgium   Brussels    11190846\n",
      "1    India  New Delhi  1303171035\n",
      "2   Brazil   Brasilia   207847528\n",
      "   Country    Capital  Population\n",
      "0  Belgium   Brussels    11190846\n",
      "1    India  New Delhi  1303171035\n",
      "2   Brazil   Brasilia   207847528\n",
      "=sort_values=:\n",
      "   Country    Capital  Population\n",
      "0  Belgium   Brussels    11190846\n",
      "2   Brazil   Brasilia   207847528\n",
      "1    India  New Delhi  1303171035\n",
      "   Country  Capital  Population\n",
      "0      1.0      2.0         1.0\n",
      "1      3.0      3.0         3.0\n",
      "2      2.0      1.0         2.0\n"
     ]
    }
   ],
   "source": [
    "print (df, \n",
    "       df.sort_index(),\n",
    "       \"=sort_values=:\",\n",
    "       df.sort_values(by='Country', ascending=True),\n",
    "       df.rank(),\n",
    "       sep='\\n')"
   ]
  },
  {
   "cell_type": "markdown",
   "metadata": {},
   "source": [
    "### Retrieving Series/DataFrame Information\n",
    "#### Basic Information"
   ]
  },
  {
   "cell_type": "code",
   "execution_count": 71,
   "metadata": {},
   "outputs": [
    {
     "name": "stdout",
     "output_type": "stream",
     "text": [
      "<class 'pandas.core.frame.DataFrame'>\n",
      "RangeIndex: 3 entries, 0 to 2\n",
      "Data columns (total 3 columns):\n",
      "Country       3 non-null object\n",
      "Capital       3 non-null object\n",
      "Population    3 non-null int64\n",
      "dtypes: int64(1), object(2)\n",
      "memory usage: 152.0+ bytes\n",
      "   Country    Capital  Population\n",
      "0  Belgium   Brussels    11190846\n",
      "1    India  New Delhi  1303171035\n",
      "2   Brazil   Brasilia   207847528\n",
      "=Shape=:\n",
      "(3, 3)\n",
      "RangeIndex(start=0, stop=3, step=1)\n",
      "Index(['Country', 'Capital', 'Population'], dtype='object')\n",
      "=Info=:\n",
      "None\n",
      "=Count=:\n",
      "Country       3\n",
      "Capital       3\n",
      "Population    3\n",
      "dtype: int64\n"
     ]
    }
   ],
   "source": [
    "print (df,\n",
    "       '=Shape=:',\n",
    "       df.shape,\n",
    "       df.index,\n",
    "       df.columns,\n",
    "       '=Info=:',\n",
    "       df.info(),\n",
    "       \"=Count=:\",\n",
    "       df.count(),\n",
    "       sep='\\n')"
   ]
  },
  {
   "cell_type": "markdown",
   "metadata": {},
   "source": [
    "#### Summary"
   ]
  },
  {
   "cell_type": "code",
   "execution_count": 163,
   "metadata": {},
   "outputs": [
    {
     "name": "stdout",
     "output_type": "stream",
     "text": [
      "   Country    Capital  Population\n",
      "0  Belgium   Brussels    11190846\n",
      "1    India  New Delhi  1303171035\n",
      "2   Brazil   Brasilia   207847528\n",
      "Country              BelgiumIndiaBrazil\n",
      "Capital       BrusselsNew DelhiBrasilia\n",
      "Population                   1522209409\n",
      "dtype: object\n",
      "              Country                    Capital  Population\n",
      "0             Belgium                   Brussels    11190846\n",
      "1        BelgiumIndia          BrusselsNew Delhi  1314361881\n",
      "2  BelgiumIndiaBrazil  BrusselsNew DelhiBrasilia  1522209409\n",
      "=Describe=:\n",
      "         Population\n",
      "count  3.000000e+00\n",
      "mean   5.074031e+08\n",
      "std    6.961346e+08\n",
      "min    1.119085e+07\n",
      "25%    1.095192e+08\n",
      "50%    2.078475e+08\n",
      "75%    7.555093e+08\n",
      "max    1.303171e+09\n",
      "=Mean=:\n",
      "Population    5.074031e+08\n",
      "dtype: float64\n",
      "=Median=:\n",
      "Population    207847528.0\n",
      "dtype: float64\n",
      "=Count no of rows with each unique value=:\n",
      "India      1\n",
      "Belgium    1\n",
      "Brazil     1\n",
      "Name: Country, dtype: int64\n",
      "=# of distinct values in a column=:\n",
      "3\n"
     ]
    }
   ],
   "source": [
    "print (df,\n",
    "       df.sum(),\n",
    "       df.cumsum(),\n",
    "       \"=Describe=:\",\n",
    "       df.describe(),\n",
    "       \"=Mean=:\",\n",
    "       df.mean(),\n",
    "       \"=Median=:\",\n",
    "       df.median(),\n",
    "       \"=Count no of rows with each unique value=:\",\n",
    "       df['Country'].value_counts(),\n",
    "       \"=# of distinct values in a column=:\",\n",
    "       df['Country'].nunique(),\n",
    "       sep='\\n')"
   ]
  },
  {
   "cell_type": "markdown",
   "metadata": {},
   "source": [
    "idxmax - Return index of first occurrence of maximum over requested axis. "
   ]
  },
  {
   "cell_type": "code",
   "execution_count": 109,
   "metadata": {},
   "outputs": [
    {
     "name": "stdout",
     "output_type": "stream",
     "text": [
      "   numbers\n",
      "0        1\n",
      "1        2\n",
      "2        3\n",
      "3        4\n",
      "numbers    0.25\n",
      "dtype: float64\n",
      "numbers    0\n",
      "dtype: int64\n",
      "numbers    3\n",
      "dtype: int64\n",
      "numbers    0.0\n",
      "dtype: float64\n"
     ]
    }
   ],
   "source": [
    "data = {'numbers': [1,2,3,4]}\n",
    "df1 = pd.DataFrame(data, columns=['numbers'])\n",
    "print (df1, \n",
    "       df1.min()/df1.max(),\n",
    "       df1.idxmin(),\n",
    "       df1.idxmax(),\n",
    "       df1.idxmin()/df1.idxmax(),\n",
    "       sep='\\n')"
   ]
  },
  {
   "cell_type": "markdown",
   "metadata": {},
   "source": [
    "### Applying Functions"
   ]
  },
  {
   "cell_type": "code",
   "execution_count": 110,
   "metadata": {},
   "outputs": [
    {
     "name": "stdout",
     "output_type": "stream",
     "text": [
      "   numbers\n",
      "0        1\n",
      "1        2\n",
      "2        3\n",
      "3        4\n",
      "   numbers\n",
      "0        2\n",
      "1        4\n",
      "2        6\n",
      "3        8\n",
      "applymap (element-wise):\n",
      "   numbers\n",
      "0        2\n",
      "1        4\n",
      "2        6\n",
      "3        8\n"
     ]
    }
   ],
   "source": [
    "f = lambda x: x*2\n",
    "print (df1,\n",
    "       df1.apply(f),\n",
    "       'applymap (element-wise):',\n",
    "       df1.applymap(f),\n",
    "       sep='\\n')"
   ]
  },
  {
   "cell_type": "markdown",
   "metadata": {},
   "source": [
    "### Data Alignment\n",
    "#### Internal Data Alignment\n",
    "NA values are introduced in the indices that don’t overlap.\n",
    "\n",
    "You can also do the internal data alignment yourself with\n",
    "the help of the fill methods"
   ]
  },
  {
   "cell_type": "code",
   "execution_count": 116,
   "metadata": {},
   "outputs": [
    {
     "name": "stdout",
     "output_type": "stream",
     "text": [
      "a    6\n",
      "b   -7\n",
      "c    4\n",
      "d    9\n",
      "dtype: int64\n",
      "a    7\n",
      "c   -2\n",
      "d    3\n",
      "dtype: int64\n",
      "a    13.0\n",
      "b     NaN\n",
      "c     2.0\n",
      "d    12.0\n",
      "dtype: float64\n",
      "a    13.0\n",
      "b    -7.0\n",
      "c     2.0\n",
      "d    12.0\n",
      "dtype: float64\n",
      "a   -1.0\n",
      "b   -9.0\n",
      "c    6.0\n",
      "d    6.0\n",
      "dtype: float64\n"
     ]
    }
   ],
   "source": [
    "s3 = pd.Series([7, -2, 3], index=['a', 'c', 'd'])\n",
    "print (s,\n",
    "       s3,\n",
    "       s+s3,\n",
    "       s.add(s3, fill_value=0),\n",
    "       s.sub(s3, fill_value=2),\n",
    "       sep='\\n')"
   ]
  },
  {
   "cell_type": "markdown",
   "metadata": {},
   "source": [
    "### Reshaping Data"
   ]
  },
  {
   "cell_type": "code",
   "execution_count": 128,
   "metadata": {},
   "outputs": [
    {
     "name": "stdout",
     "output_type": "stream",
     "text": [
      "   Country  Population\n",
      "0  Belgium    11190846\n",
      "1    India  1303171035\n",
      "2   Brazil   207847528\n",
      "=melt=:\n",
      "     variable       value\n",
      "0     Country     Belgium\n",
      "1     Country       India\n",
      "2     Country      Brazil\n",
      "3  Population    11190846\n",
      "4  Population  1303171035\n",
      "5  Population   207847528\n",
      "=pivot=:\n",
      "Country     Belgium       Brazil         India\n",
      "0        11190846.0          NaN           NaN\n",
      "1               NaN          NaN  1.303171e+09\n",
      "2               NaN  207847528.0           NaN\n",
      "=concat=:\n",
      "   Country  Population\n",
      "0  Belgium    11190846\n",
      "1    India  1303171035\n",
      "2   Brazil   207847528\n",
      "0      USA    32720000\n",
      "=concat= (column-wise):\n",
      "   Country  Population  Country               Area\n",
      "0  Belgium    11190846  Belgium          30688 km2\n",
      "1    India  1303171035    India  3.287 million km2\n",
      "2   Brazil   207847528   Brazil  8.516 million km2\n"
     ]
    }
   ],
   "source": [
    "data2 = {'Country': ['Belgium', 'India', 'Brazil'],\n",
    "       'Population': [11190846, 1303171035, 207847528]}\n",
    "data3 = {'Country': ['Belgium', 'India', 'Brazil'],\n",
    "       'Area': ['30688 km2', '3.287 million km2', '8.516 million km2']}\n",
    "data4 = {'Country': ['USA'],\n",
    "       'Population': [32720000]}\n",
    "df2 = pd.DataFrame(data2, columns=['Country', 'Population'])\n",
    "df3 = pd.DataFrame(data3, columns=['Country', 'Area'])\n",
    "df4 = pd.DataFrame(data4, columns=['Country', 'Population'])\n",
    "print (df2,\n",
    "       \"=melt=:\",\n",
    "       pd.melt(df2), \n",
    "       \"=pivot=:\",\n",
    "       df.pivot(columns='Country', values='Population'),\n",
    "       \"=concat=:\",\n",
    "       pd.concat([df2, df4]),\n",
    "       \"=concat= (column-wise):\",\n",
    "       pd.concat([df2, df3], axis=1),\n",
    "       sep='\\n')"
   ]
  }
 ],
 "metadata": {
  "kernelspec": {
   "display_name": "Python 3",
   "language": "python",
   "name": "python3"
  },
  "language_info": {
   "codemirror_mode": {
    "name": "ipython",
    "version": 3
   },
   "file_extension": ".py",
   "mimetype": "text/x-python",
   "name": "python",
   "nbconvert_exporter": "python",
   "pygments_lexer": "ipython3",
   "version": "3.7.3"
  }
 },
 "nbformat": 4,
 "nbformat_minor": 2
}
